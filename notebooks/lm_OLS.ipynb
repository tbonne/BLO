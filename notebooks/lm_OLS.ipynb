{
  "nbformat": 4,
  "nbformat_minor": 0,
  "metadata": {
    "colab": {
      "name": "lm_OLS.ipynb",
      "provenance": [],
      "collapsed_sections": [],
      "authorship_tag": "ABX9TyMRIy3qZo7essO/xgE04UuH",
      "include_colab_link": true
    },
    "kernelspec": {
      "name": "ir",
      "display_name": "R"
    },
    "language_info": {
      "name": "R"
    }
  },
  "cells": [
    {
      "cell_type": "markdown",
      "metadata": {
        "id": "view-in-github",
        "colab_type": "text"
      },
      "source": [
        "<a href=\"https://colab.research.google.com/github/tbonne/BLO/blob/master/notebooks/lm_OLS.ipynb\" target=\"_parent\"><img src=\"https://colab.research.google.com/assets/colab-badge.svg\" alt=\"Open In Colab\"/></a>"
      ]
    },
    {
      "cell_type": "markdown",
      "metadata": {
        "id": "trouKhmEw-ii"
      },
      "source": [
        "<img src='http://drive.google.com/uc?export=view&id=1VwLYFU_RpimHn-ApqqcH95EVIe00-UTE' width=500>"
      ]
    },
    {
      "cell_type": "markdown",
      "metadata": {
        "id": "5Z2vKe5lxjuk"
      },
      "source": [
        "#<font color='darkorange'>Estimating the best fit line using OLS</font>"
      ]
    },
    {
      "cell_type": "markdown",
      "metadata": {
        "id": "_QeNGJdGx3tD"
      },
      "source": [
        "In this notebook we'll learn how to use ordinary least squares (OLS) to fit a line to data. To do this we'll use a linear regression function called **lm()**. This function will fit the linear equation to the data and give us the estimes of each parameter (a and b).\n"
      ]
    },
    {
      "cell_type": "markdown",
      "metadata": {
        "id": "gXa7ZC11VSZn"
      },
      "source": [
        "y = a + b*x"
      ]
    },
    {
      "cell_type": "markdown",
      "metadata": {
        "id": "ZzFbmTd1VXte"
      },
      "source": [
        "In this equation we have variables (the data we are going to use: e.g., the columns in a spreadsheet).\n",
        "\n",
        "> Here the \"y\" is the values of the response variable. This is the thing you'd like to predict! So in the case of the IQ dataset this could be child IQ values.\n",
        "  \n",
        "> The \"x\" in the equation is the values you'd like to use to help make those predictions. Again in the case of the IQ dataset this could be the mom's IQ score.\n",
        "\n",
        "In this equation we also have parameters (these are learnt from the data)\n",
        "  \n",
        "> The \"a\" is the intercept, and measures where the linear line crosses the y-axis on the plot.\n",
        "\n",
        "> The \"b\" is the slope, and measures how the x value is predicted to change the y value. Positive slopes suggest that when x goes up so does y, and negative slopes suggest that when x goes up y goes down."
      ]
    },
    {
      "cell_type": "markdown",
      "metadata": {
        "id": "l8WO2IgVWmds"
      },
      "source": [
        "  \n",
        "  \n",
        "\n",
        "Now that we've looked at all the peices of the equation let's try to use it! This will help us better understand what variables we should use as inputs and what the parameters really mean. To do this let's try and fit a line to the data!"
      ]
    },
    {
      "cell_type": "markdown",
      "metadata": {
        "id": "GNz8wsU5jsPk"
      },
      "source": [
        "## Fitting a line using OLS"
      ]
    },
    {
      "cell_type": "markdown",
      "metadata": {
        "id": "h5dkpbBqARsC"
      },
      "source": [
        "First lets load in some packages. These have functions that other people have made, and will hopefully make our lives a lot easier!"
      ]
    },
    {
      "cell_type": "code",
      "metadata": {
        "id": "NMCdcYmyAQNB",
        "colab": {
          "base_uri": "https://localhost:8080/"
        },
        "outputId": "d8c76bc9-95ff-4145-a1bb-b2b0f53c9641"
      },
      "source": [
        "install.packages(\"jtools\")\n",
        "install.packages(\"ggstance\")\n",
        "library(jtools)"
      ],
      "execution_count": 1,
      "outputs": [
        {
          "output_type": "stream",
          "name": "stderr",
          "text": [
            "Installing package into ‘/usr/local/lib/R/site-library’\n",
            "(as ‘lib’ is unspecified)\n",
            "\n",
            "also installing the dependency ‘pander’\n",
            "\n",
            "\n",
            "Installing package into ‘/usr/local/lib/R/site-library’\n",
            "(as ‘lib’ is unspecified)\n",
            "\n",
            "also installing the dependency ‘plyr’\n",
            "\n",
            "\n"
          ]
        }
      ]
    },
    {
      "cell_type": "markdown",
      "metadata": {
        "id": "FvGBLDcmW8YG"
      },
      "source": [
        "Then let's load in the IQ data"
      ]
    },
    {
      "cell_type": "code",
      "metadata": {
        "id": "W4l2Cb0PzjGW",
        "colab": {
          "base_uri": "https://localhost:8080/",
          "height": 1000
        },
        "outputId": "9852489f-bf09-4253-ee54-248dcef79d26"
      },
      "source": [
        "#here we will read in a csv file and place it into something called df\n",
        "df_IQ <- read.csv(\"https://raw.githubusercontent.com/tbonne/IntroPychStats/main/data/kidIQ.csv\", header = T)\n",
        "\n",
        "#let's take a look at the data\n",
        "df_IQ"
      ],
      "execution_count": 2,
      "outputs": [
        {
          "output_type": "display_data",
          "data": {
            "text/plain": [
              "    kid_score mom_hs mom_iq    mom_work mom_age\n",
              "1    65       1      121.11753 4        27     \n",
              "2    98       1       89.36188 4        25     \n",
              "3    85       1      115.44316 4        27     \n",
              "4    83       1       99.44964 3        25     \n",
              "5   115       1       92.74571 4        27     \n",
              "6    98       0      107.90184 1        18     \n",
              "7    69       1      138.89311 4        20     \n",
              "8   106       1      125.14512 3        23     \n",
              "9   102       1       81.61953 1        24     \n",
              "10   95       1       95.07307 1        19     \n",
              "11   91       1       88.57700 1        23     \n",
              "12   58       1       94.85971 4        24     \n",
              "13   84       1       88.96280 4        27     \n",
              "14   78       1      114.11430 4        26     \n",
              "15  102       0      100.53407 2        24     \n",
              "16  110       1      120.41915 1        26     \n",
              "17  102       1      114.42688 3        23     \n",
              "18   99       1      111.59236 3        26     \n",
              "19  105       1      133.84923 4        20     \n",
              "20  101       0       97.26480 3        17     \n",
              "21  102       1      110.09681 4        21     \n",
              "22  115       1      126.72399 2        26     \n",
              "23  100       1       97.91159 2        20     \n",
              "24   87       1       99.92573 4        23     \n",
              "25   99       0       97.59501 4        19     \n",
              "26   96       1      121.74801 4        27     \n",
              "27   72       1       98.74808 3        21     \n",
              "28   78       1       97.91525 4        22     \n",
              "29   77       1       80.35856 2        24     \n",
              "30   98       1      114.30786 2        22     \n",
              "⋮   ⋮         ⋮      ⋮         ⋮        ⋮      \n",
              "405  96       0       84.98531 3        19     \n",
              "406  65       0       82.98596 1        21     \n",
              "407  64       1      101.79504 3        24     \n",
              "408  95       1      100.24363 2        26     \n",
              "409  56       1      110.01348 4        23     \n",
              "410  75       0       88.57700 2        23     \n",
              "411  91       1      106.74204 3        22     \n",
              "412 106       1       95.29214 2        18     \n",
              "413  76       1      108.31325 1        19     \n",
              "414  90       1      110.33139 3        26     \n",
              "415 108       1      116.82980 4        22     \n",
              "416  86       0       86.68554 1        23     \n",
              "417  85       1       96.85662 2        21     \n",
              "418 104       0       90.24826 1        18     \n",
              "419  87       1       89.29081 4        21     \n",
              "420  41       0       74.23025 1        25     \n",
              "421 106       0       91.88382 4        25     \n",
              "422  76       0       96.46072 3        26     \n",
              "423 100       0       97.40379 4        23     \n",
              "424  89       1      131.53329 4        21     \n",
              "425  42       1       78.24456 2        27     \n",
              "426 102       1      127.67572 4        29     \n",
              "427 104       1      124.51463 4        23     \n",
              "428  59       0       80.46402 4        21     \n",
              "429  93       0       74.86073 2        25     \n",
              "430  94       0       84.87741 4        21     \n",
              "431  76       1       92.99039 4        23     \n",
              "432  50       0       94.85971 2        24     \n",
              "433  88       1       96.85662 2        21     \n",
              "434  70       1       91.25334 2        25     "
            ],
            "text/latex": "A data.frame: 434 × 5\n\\begin{tabular}{lllll}\n kid\\_score & mom\\_hs & mom\\_iq & mom\\_work & mom\\_age\\\\\n <int> & <int> & <dbl> & <int> & <int>\\\\\n\\hline\n\t  65 & 1 & 121.11753 & 4 & 27\\\\\n\t  98 & 1 &  89.36188 & 4 & 25\\\\\n\t  85 & 1 & 115.44316 & 4 & 27\\\\\n\t  83 & 1 &  99.44964 & 3 & 25\\\\\n\t 115 & 1 &  92.74571 & 4 & 27\\\\\n\t  98 & 0 & 107.90184 & 1 & 18\\\\\n\t  69 & 1 & 138.89311 & 4 & 20\\\\\n\t 106 & 1 & 125.14512 & 3 & 23\\\\\n\t 102 & 1 &  81.61953 & 1 & 24\\\\\n\t  95 & 1 &  95.07307 & 1 & 19\\\\\n\t  91 & 1 &  88.57700 & 1 & 23\\\\\n\t  58 & 1 &  94.85971 & 4 & 24\\\\\n\t  84 & 1 &  88.96280 & 4 & 27\\\\\n\t  78 & 1 & 114.11430 & 4 & 26\\\\\n\t 102 & 0 & 100.53407 & 2 & 24\\\\\n\t 110 & 1 & 120.41915 & 1 & 26\\\\\n\t 102 & 1 & 114.42688 & 3 & 23\\\\\n\t  99 & 1 & 111.59236 & 3 & 26\\\\\n\t 105 & 1 & 133.84923 & 4 & 20\\\\\n\t 101 & 0 &  97.26480 & 3 & 17\\\\\n\t 102 & 1 & 110.09681 & 4 & 21\\\\\n\t 115 & 1 & 126.72399 & 2 & 26\\\\\n\t 100 & 1 &  97.91159 & 2 & 20\\\\\n\t  87 & 1 &  99.92573 & 4 & 23\\\\\n\t  99 & 0 &  97.59501 & 4 & 19\\\\\n\t  96 & 1 & 121.74801 & 4 & 27\\\\\n\t  72 & 1 &  98.74808 & 3 & 21\\\\\n\t  78 & 1 &  97.91525 & 4 & 22\\\\\n\t  77 & 1 &  80.35856 & 2 & 24\\\\\n\t  98 & 1 & 114.30786 & 2 & 22\\\\\n\t ⋮ & ⋮ & ⋮ & ⋮ & ⋮\\\\\n\t  96 & 0 &  84.98531 & 3 & 19\\\\\n\t  65 & 0 &  82.98596 & 1 & 21\\\\\n\t  64 & 1 & 101.79504 & 3 & 24\\\\\n\t  95 & 1 & 100.24363 & 2 & 26\\\\\n\t  56 & 1 & 110.01348 & 4 & 23\\\\\n\t  75 & 0 &  88.57700 & 2 & 23\\\\\n\t  91 & 1 & 106.74204 & 3 & 22\\\\\n\t 106 & 1 &  95.29214 & 2 & 18\\\\\n\t  76 & 1 & 108.31325 & 1 & 19\\\\\n\t  90 & 1 & 110.33139 & 3 & 26\\\\\n\t 108 & 1 & 116.82980 & 4 & 22\\\\\n\t  86 & 0 &  86.68554 & 1 & 23\\\\\n\t  85 & 1 &  96.85662 & 2 & 21\\\\\n\t 104 & 0 &  90.24826 & 1 & 18\\\\\n\t  87 & 1 &  89.29081 & 4 & 21\\\\\n\t  41 & 0 &  74.23025 & 1 & 25\\\\\n\t 106 & 0 &  91.88382 & 4 & 25\\\\\n\t  76 & 0 &  96.46072 & 3 & 26\\\\\n\t 100 & 0 &  97.40379 & 4 & 23\\\\\n\t  89 & 1 & 131.53329 & 4 & 21\\\\\n\t  42 & 1 &  78.24456 & 2 & 27\\\\\n\t 102 & 1 & 127.67572 & 4 & 29\\\\\n\t 104 & 1 & 124.51463 & 4 & 23\\\\\n\t  59 & 0 &  80.46402 & 4 & 21\\\\\n\t  93 & 0 &  74.86073 & 2 & 25\\\\\n\t  94 & 0 &  84.87741 & 4 & 21\\\\\n\t  76 & 1 &  92.99039 & 4 & 23\\\\\n\t  50 & 0 &  94.85971 & 2 & 24\\\\\n\t  88 & 1 &  96.85662 & 2 & 21\\\\\n\t  70 & 1 &  91.25334 & 2 & 25\\\\\n\\end{tabular}\n",
            "text/markdown": "\nA data.frame: 434 × 5\n\n| kid_score &lt;int&gt; | mom_hs &lt;int&gt; | mom_iq &lt;dbl&gt; | mom_work &lt;int&gt; | mom_age &lt;int&gt; |\n|---|---|---|---|---|\n|  65 | 1 | 121.11753 | 4 | 27 |\n|  98 | 1 |  89.36188 | 4 | 25 |\n|  85 | 1 | 115.44316 | 4 | 27 |\n|  83 | 1 |  99.44964 | 3 | 25 |\n| 115 | 1 |  92.74571 | 4 | 27 |\n|  98 | 0 | 107.90184 | 1 | 18 |\n|  69 | 1 | 138.89311 | 4 | 20 |\n| 106 | 1 | 125.14512 | 3 | 23 |\n| 102 | 1 |  81.61953 | 1 | 24 |\n|  95 | 1 |  95.07307 | 1 | 19 |\n|  91 | 1 |  88.57700 | 1 | 23 |\n|  58 | 1 |  94.85971 | 4 | 24 |\n|  84 | 1 |  88.96280 | 4 | 27 |\n|  78 | 1 | 114.11430 | 4 | 26 |\n| 102 | 0 | 100.53407 | 2 | 24 |\n| 110 | 1 | 120.41915 | 1 | 26 |\n| 102 | 1 | 114.42688 | 3 | 23 |\n|  99 | 1 | 111.59236 | 3 | 26 |\n| 105 | 1 | 133.84923 | 4 | 20 |\n| 101 | 0 |  97.26480 | 3 | 17 |\n| 102 | 1 | 110.09681 | 4 | 21 |\n| 115 | 1 | 126.72399 | 2 | 26 |\n| 100 | 1 |  97.91159 | 2 | 20 |\n|  87 | 1 |  99.92573 | 4 | 23 |\n|  99 | 0 |  97.59501 | 4 | 19 |\n|  96 | 1 | 121.74801 | 4 | 27 |\n|  72 | 1 |  98.74808 | 3 | 21 |\n|  78 | 1 |  97.91525 | 4 | 22 |\n|  77 | 1 |  80.35856 | 2 | 24 |\n|  98 | 1 | 114.30786 | 2 | 22 |\n| ⋮ | ⋮ | ⋮ | ⋮ | ⋮ |\n|  96 | 0 |  84.98531 | 3 | 19 |\n|  65 | 0 |  82.98596 | 1 | 21 |\n|  64 | 1 | 101.79504 | 3 | 24 |\n|  95 | 1 | 100.24363 | 2 | 26 |\n|  56 | 1 | 110.01348 | 4 | 23 |\n|  75 | 0 |  88.57700 | 2 | 23 |\n|  91 | 1 | 106.74204 | 3 | 22 |\n| 106 | 1 |  95.29214 | 2 | 18 |\n|  76 | 1 | 108.31325 | 1 | 19 |\n|  90 | 1 | 110.33139 | 3 | 26 |\n| 108 | 1 | 116.82980 | 4 | 22 |\n|  86 | 0 |  86.68554 | 1 | 23 |\n|  85 | 1 |  96.85662 | 2 | 21 |\n| 104 | 0 |  90.24826 | 1 | 18 |\n|  87 | 1 |  89.29081 | 4 | 21 |\n|  41 | 0 |  74.23025 | 1 | 25 |\n| 106 | 0 |  91.88382 | 4 | 25 |\n|  76 | 0 |  96.46072 | 3 | 26 |\n| 100 | 0 |  97.40379 | 4 | 23 |\n|  89 | 1 | 131.53329 | 4 | 21 |\n|  42 | 1 |  78.24456 | 2 | 27 |\n| 102 | 1 | 127.67572 | 4 | 29 |\n| 104 | 1 | 124.51463 | 4 | 23 |\n|  59 | 0 |  80.46402 | 4 | 21 |\n|  93 | 0 |  74.86073 | 2 | 25 |\n|  94 | 0 |  84.87741 | 4 | 21 |\n|  76 | 1 |  92.99039 | 4 | 23 |\n|  50 | 0 |  94.85971 | 2 | 24 |\n|  88 | 1 |  96.85662 | 2 | 21 |\n|  70 | 1 |  91.25334 | 2 | 25 |\n\n",
            "text/html": [
              "<table class=\"dataframe\">\n",
              "<caption>A data.frame: 434 × 5</caption>\n",
              "<thead>\n",
              "\t<tr><th scope=col>kid_score</th><th scope=col>mom_hs</th><th scope=col>mom_iq</th><th scope=col>mom_work</th><th scope=col>mom_age</th></tr>\n",
              "\t<tr><th scope=col>&lt;int&gt;</th><th scope=col>&lt;int&gt;</th><th scope=col>&lt;dbl&gt;</th><th scope=col>&lt;int&gt;</th><th scope=col>&lt;int&gt;</th></tr>\n",
              "</thead>\n",
              "<tbody>\n",
              "\t<tr><td> 65</td><td>1</td><td>121.11753</td><td>4</td><td>27</td></tr>\n",
              "\t<tr><td> 98</td><td>1</td><td> 89.36188</td><td>4</td><td>25</td></tr>\n",
              "\t<tr><td> 85</td><td>1</td><td>115.44316</td><td>4</td><td>27</td></tr>\n",
              "\t<tr><td> 83</td><td>1</td><td> 99.44964</td><td>3</td><td>25</td></tr>\n",
              "\t<tr><td>115</td><td>1</td><td> 92.74571</td><td>4</td><td>27</td></tr>\n",
              "\t<tr><td> 98</td><td>0</td><td>107.90184</td><td>1</td><td>18</td></tr>\n",
              "\t<tr><td> 69</td><td>1</td><td>138.89311</td><td>4</td><td>20</td></tr>\n",
              "\t<tr><td>106</td><td>1</td><td>125.14512</td><td>3</td><td>23</td></tr>\n",
              "\t<tr><td>102</td><td>1</td><td> 81.61953</td><td>1</td><td>24</td></tr>\n",
              "\t<tr><td> 95</td><td>1</td><td> 95.07307</td><td>1</td><td>19</td></tr>\n",
              "\t<tr><td> 91</td><td>1</td><td> 88.57700</td><td>1</td><td>23</td></tr>\n",
              "\t<tr><td> 58</td><td>1</td><td> 94.85971</td><td>4</td><td>24</td></tr>\n",
              "\t<tr><td> 84</td><td>1</td><td> 88.96280</td><td>4</td><td>27</td></tr>\n",
              "\t<tr><td> 78</td><td>1</td><td>114.11430</td><td>4</td><td>26</td></tr>\n",
              "\t<tr><td>102</td><td>0</td><td>100.53407</td><td>2</td><td>24</td></tr>\n",
              "\t<tr><td>110</td><td>1</td><td>120.41915</td><td>1</td><td>26</td></tr>\n",
              "\t<tr><td>102</td><td>1</td><td>114.42688</td><td>3</td><td>23</td></tr>\n",
              "\t<tr><td> 99</td><td>1</td><td>111.59236</td><td>3</td><td>26</td></tr>\n",
              "\t<tr><td>105</td><td>1</td><td>133.84923</td><td>4</td><td>20</td></tr>\n",
              "\t<tr><td>101</td><td>0</td><td> 97.26480</td><td>3</td><td>17</td></tr>\n",
              "\t<tr><td>102</td><td>1</td><td>110.09681</td><td>4</td><td>21</td></tr>\n",
              "\t<tr><td>115</td><td>1</td><td>126.72399</td><td>2</td><td>26</td></tr>\n",
              "\t<tr><td>100</td><td>1</td><td> 97.91159</td><td>2</td><td>20</td></tr>\n",
              "\t<tr><td> 87</td><td>1</td><td> 99.92573</td><td>4</td><td>23</td></tr>\n",
              "\t<tr><td> 99</td><td>0</td><td> 97.59501</td><td>4</td><td>19</td></tr>\n",
              "\t<tr><td> 96</td><td>1</td><td>121.74801</td><td>4</td><td>27</td></tr>\n",
              "\t<tr><td> 72</td><td>1</td><td> 98.74808</td><td>3</td><td>21</td></tr>\n",
              "\t<tr><td> 78</td><td>1</td><td> 97.91525</td><td>4</td><td>22</td></tr>\n",
              "\t<tr><td> 77</td><td>1</td><td> 80.35856</td><td>2</td><td>24</td></tr>\n",
              "\t<tr><td> 98</td><td>1</td><td>114.30786</td><td>2</td><td>22</td></tr>\n",
              "\t<tr><td>⋮</td><td>⋮</td><td>⋮</td><td>⋮</td><td>⋮</td></tr>\n",
              "\t<tr><td> 96</td><td>0</td><td> 84.98531</td><td>3</td><td>19</td></tr>\n",
              "\t<tr><td> 65</td><td>0</td><td> 82.98596</td><td>1</td><td>21</td></tr>\n",
              "\t<tr><td> 64</td><td>1</td><td>101.79504</td><td>3</td><td>24</td></tr>\n",
              "\t<tr><td> 95</td><td>1</td><td>100.24363</td><td>2</td><td>26</td></tr>\n",
              "\t<tr><td> 56</td><td>1</td><td>110.01348</td><td>4</td><td>23</td></tr>\n",
              "\t<tr><td> 75</td><td>0</td><td> 88.57700</td><td>2</td><td>23</td></tr>\n",
              "\t<tr><td> 91</td><td>1</td><td>106.74204</td><td>3</td><td>22</td></tr>\n",
              "\t<tr><td>106</td><td>1</td><td> 95.29214</td><td>2</td><td>18</td></tr>\n",
              "\t<tr><td> 76</td><td>1</td><td>108.31325</td><td>1</td><td>19</td></tr>\n",
              "\t<tr><td> 90</td><td>1</td><td>110.33139</td><td>3</td><td>26</td></tr>\n",
              "\t<tr><td>108</td><td>1</td><td>116.82980</td><td>4</td><td>22</td></tr>\n",
              "\t<tr><td> 86</td><td>0</td><td> 86.68554</td><td>1</td><td>23</td></tr>\n",
              "\t<tr><td> 85</td><td>1</td><td> 96.85662</td><td>2</td><td>21</td></tr>\n",
              "\t<tr><td>104</td><td>0</td><td> 90.24826</td><td>1</td><td>18</td></tr>\n",
              "\t<tr><td> 87</td><td>1</td><td> 89.29081</td><td>4</td><td>21</td></tr>\n",
              "\t<tr><td> 41</td><td>0</td><td> 74.23025</td><td>1</td><td>25</td></tr>\n",
              "\t<tr><td>106</td><td>0</td><td> 91.88382</td><td>4</td><td>25</td></tr>\n",
              "\t<tr><td> 76</td><td>0</td><td> 96.46072</td><td>3</td><td>26</td></tr>\n",
              "\t<tr><td>100</td><td>0</td><td> 97.40379</td><td>4</td><td>23</td></tr>\n",
              "\t<tr><td> 89</td><td>1</td><td>131.53329</td><td>4</td><td>21</td></tr>\n",
              "\t<tr><td> 42</td><td>1</td><td> 78.24456</td><td>2</td><td>27</td></tr>\n",
              "\t<tr><td>102</td><td>1</td><td>127.67572</td><td>4</td><td>29</td></tr>\n",
              "\t<tr><td>104</td><td>1</td><td>124.51463</td><td>4</td><td>23</td></tr>\n",
              "\t<tr><td> 59</td><td>0</td><td> 80.46402</td><td>4</td><td>21</td></tr>\n",
              "\t<tr><td> 93</td><td>0</td><td> 74.86073</td><td>2</td><td>25</td></tr>\n",
              "\t<tr><td> 94</td><td>0</td><td> 84.87741</td><td>4</td><td>21</td></tr>\n",
              "\t<tr><td> 76</td><td>1</td><td> 92.99039</td><td>4</td><td>23</td></tr>\n",
              "\t<tr><td> 50</td><td>0</td><td> 94.85971</td><td>2</td><td>24</td></tr>\n",
              "\t<tr><td> 88</td><td>1</td><td> 96.85662</td><td>2</td><td>21</td></tr>\n",
              "\t<tr><td> 70</td><td>1</td><td> 91.25334</td><td>2</td><td>25</td></tr>\n",
              "</tbody>\n",
              "</table>\n"
            ]
          },
          "metadata": {}
        }
      ]
    },
    {
      "cell_type": "markdown",
      "metadata": {
        "id": "AMbKrM93zjGX"
      },
      "source": [
        "Then let's plot the scatterplot. Here we will choose: \n",
        "> what we'd like to predict (child IQ) and put it on the y-axis.\n",
        "> What we'd like to use to help make those predictions (mom IQ) and put it on the x-axis."
      ]
    },
    {
      "cell_type": "code",
      "metadata": {
        "id": "YCT-75fRzjGX",
        "colab": {
          "base_uri": "https://localhost:8080/",
          "height": 437
        },
        "outputId": "bbe93bcb-dbbe-437f-ce92-d14778ad0785"
      },
      "source": [
        "plot(x=df_IQ$mom_age,y=df_IQ$kid_score) "
      ],
      "execution_count": 3,
      "outputs": [
        {
          "output_type": "display_data",
          "data": {
            "image/png": "[encoded data removed]",
            "text/plain": [
              "plot without title"
            ]
          },
          "metadata": {
            "image/png": {
              "width": 420,
              "height": 420
            }
          }
        }
      ]
    },
    {
      "cell_type": "markdown",
      "metadata": {
        "id": "K9X0c24QzjGX"
      },
      "source": [
        "Rather than visually fitting the line let's use OLS to find the values of the best fit line for us! To do this we'll use the function call **lm()**, which stands for linear model (lm). We'll use this function a lot in the next few classes so there will be a lot of time to figure all this out, so don't worry if this seems like a lot at the momment.\n",
        "\n",
        "The **lm()** function needs us to tell it what kind of linear equation to use. In particular it needs to know what you'd like to predict and what you'd like to use to make those predictions. To do this it uses a specific input to make it easier for use:\n",
        "> What you want to predict ~ what you want to use to make those predictions\n",
        "\n",
        "It also requires us to use the names of the variables in the data (i.e., the column names):\n",
        "  \n",
        "> e.g., kid_score ~ mom_iq\n",
        "  \n",
        "The **lm()** function also requires us to input the data.\n",
        "> e.g., data = df_IQ\n",
        "\n",
        "So when we put this all together we get the following:\n",
        "  "
      ]
    },
    {
      "cell_type": "code",
      "metadata": {
        "id": "g0-O08LrzjGY"
      },
      "source": [
        "#fit a linear model\n",
        "model_childIQ <- lm(kid_score ~ mom_iq, data=df_IQ)\n"
      ],
      "execution_count": 4,
      "outputs": []
    },
    {
      "cell_type": "markdown",
      "metadata": {
        "id": "svHTbyO12Guk"
      },
      "source": [
        "This bit of code then use our inputs to find the best fit linear equation for :\n",
        "> kid_score = a + b * mom_iq"
      ]
    },
    {
      "cell_type": "markdown",
      "metadata": {
        "id": "lGtlgt5I0fJ4"
      },
      "source": [
        "Let's take a look at what it found. To do this we'll use a function called **summary()**. It is very useful and will tell us what values of a and b it found for the best fit line. \n",
        "> Note: it will also tell us lot's of other information! It might be a little overwhelming, but we'll go through each part in this class and the next few classes. So there is no need to know what all the outputs mean right now!"
      ]
    },
    {
      "cell_type": "code",
      "metadata": {
        "id": "32dy8P1A0fiu",
        "colab": {
          "base_uri": "https://localhost:8080/",
          "height": 306
        },
        "outputId": "b032ef92-9fd8-4634-f7bb-cb91b8d9e3db"
      },
      "source": [
        "#What does the best fit model look like?\n",
        "summ(model_childIQ)"
      ],
      "execution_count": 5,
      "outputs": [
        {
          "output_type": "display_data",
          "data": {
            "text/plain": [
              "\u001b[4mMODEL INFO:\u001b[24m\n",
              "\u001b[3mObservations:\u001b[23m 434\n",
              "\u001b[3mDependent Variable:\u001b[23m kid_score\n",
              "\u001b[3mType:\u001b[23m OLS linear regression \n",
              "\n",
              "\u001b[4mMODEL FIT:\u001b[24m\n",
              "\u001b[3mF\u001b[23m(1,432) = 108.64, \u001b[3mp\u001b[23m = 0.00\n",
              "\u001b[3mR² = \u001b[23m0.20\n",
              "\u001b[3mAdj. R² = \u001b[23m0.20 \n",
              "\n",
              "\u001b[3mStandard errors: OLS\u001b[23m\n",
              "------------------------------------------------\n",
              "                     Est.   S.E.   t val.      p\n",
              "----------------- ------- ------ -------- ------\n",
              "(Intercept)         25.80   5.92     4.36   0.00\n",
              "mom_iq               0.61   0.06    10.42   0.00\n",
              "------------------------------------------------"
            ]
          },
          "metadata": {}
        }
      ]
    },
    {
      "cell_type": "markdown",
      "metadata": {
        "id": "rS6AMqN130n8"
      },
      "source": [
        "There is a lot going on with the output above. Right now and for the majority of the class we will focus on only a small portion of the output. In particular, the most important part is the Estimates of the coefficients.\n",
        "> The (Intercept) estimate above is just the *a* in the linear equation. This is the value at which the line crosses the y-axis.\n",
        "> the mom_iq estimate is just the *b* in the linear equation. This is the slope of the line. We can see here that it is estimated to be positive, and that for every 1 increase in IQ for the mom, the model estimates that the child's IQ is 0.61 higher too.\n",
        "\n",
        "The other important thing to take away from this output is the Std Error. This is the standard error of the estimate. As we are using a sample we know there is some uncertainty in our estimates (i.e., they won't match the estimates if we had all the IQ values for all the mom's and their children). This Std Error is our estimate of how much uncertainty we have in each of these parameters."
      ]
    },
    {
      "cell_type": "markdown",
      "metadata": {
        "id": "cejz_bgpn1qx"
      },
      "source": [
        "Let's use the uncertainty to estimate a confidence interval for each parameter."
      ]
    },
    {
      "cell_type": "code",
      "metadata": {
        "id": "899wXhZenzMt",
        "colab": {
          "base_uri": "https://localhost:8080/",
          "height": 306
        },
        "outputId": "2f216118-dd52-4a41-d5e4-a82a000bdd17"
      },
      "source": [
        "summ(model_childIQ, confint = TRUE)"
      ],
      "execution_count": 6,
      "outputs": [
        {
          "output_type": "display_data",
          "data": {
            "text/plain": [
              "\u001b[4mMODEL INFO:\u001b[24m\n",
              "\u001b[3mObservations:\u001b[23m 434\n",
              "\u001b[3mDependent Variable:\u001b[23m kid_score\n",
              "\u001b[3mType:\u001b[23m OLS linear regression \n",
              "\n",
              "\u001b[4mMODEL FIT:\u001b[24m\n",
              "\u001b[3mF\u001b[23m(1,432) = 108.64, \u001b[3mp\u001b[23m = 0.00\n",
              "\u001b[3mR² = \u001b[23m0.20\n",
              "\u001b[3mAdj. R² = \u001b[23m0.20 \n",
              "\n",
              "\u001b[3mStandard errors: OLS\u001b[23m\n",
              "---------------------------------------------------------\n",
              "                     Est.    2.5%   97.5%   t val.      p\n",
              "----------------- ------- ------- ------- -------- ------\n",
              "(Intercept)         25.80   14.17   37.43     4.36   0.00\n",
              "mom_iq               0.61    0.49    0.72    10.42   0.00\n",
              "---------------------------------------------------------"
            ]
          },
          "metadata": {}
        }
      ]
    },
    {
      "cell_type": "markdown",
      "metadata": {
        "id": "4KCh21RJzjGZ"
      },
      "source": [
        "We can see from this output that the model is pretty certain that the slope of the population is somewhere between 0.49 and 0.72. \n",
        "> Those are the range of population values that are compatible with our sample!\n",
        "> I.e., it is unlikely that we'd get a sample like the one we got if the real slope between moms and chilren was -0.3."
      ]
    },
    {
      "cell_type": "markdown",
      "metadata": {
        "id": "XdjGuaFZ_jYT"
      },
      "source": [
        "Let's take a look at this a little more visually"
      ]
    },
    {
      "cell_type": "code",
      "metadata": {
        "colab": {
          "base_uri": "https://localhost:8080/",
          "height": 556
        },
        "id": "r4fj57a7_mRa",
        "outputId": "6ba6dc18-1e64-41cd-aa17-e42734d9dc3c"
      },
      "source": [
        "plot_summs(model_childIQ)"
      ],
      "execution_count": 7,
      "outputs": [
        {
          "output_type": "stream",
          "name": "stderr",
          "text": [
            "Registered S3 methods overwritten by 'broom':\n",
            "  method            from  \n",
            "  tidy.glht         jtools\n",
            "  tidy.summary.glht jtools\n",
            "\n",
            "Loading required namespace: broom.mixed\n",
            "\n"
          ]
        },
        {
          "output_type": "display_data",
          "data": {
            "image/png": "[encoded data removed]",
            "text/plain": [
              "plot without title"
            ]
          },
          "metadata": {
            "image/png": {
              "width": 420,
              "height": 420
            }
          }
        }
      ]
    },
    {
      "cell_type": "markdown",
      "metadata": {
        "id": "syWsFiKejnql"
      },
      "source": [
        "## Try it out!"
      ]
    },
    {
      "cell_type": "markdown",
      "metadata": {
        "id": "5hnP-UaQ7LPF"
      },
      "source": [
        "Now that we've worked our way through fitting and interpreting a linear equation, try and repeat the anlysis below but this time see if the age of the mother at birth rather than the IQ of the mom can predict a childs IQ score."
      ]
    },
    {
      "cell_type": "markdown",
      "metadata": {
        "id": "JVg_zbU2i1Bv"
      },
      "source": [
        "Fit this a new model that tries to predict child IQ using mother's age when the child was born.\n",
        "  \n",
        "> Feel free to copy and paste, and then modify the formula as needed."
      ]
    },
    {
      "cell_type": "code",
      "metadata": {
        "id": "YLGgHpEZjFJ_"
      },
      "source": [
        "#fit a linear model\n"
      ],
      "execution_count": null,
      "outputs": []
    },
    {
      "cell_type": "markdown",
      "metadata": {
        "id": "XH9FT5OxjMe3"
      },
      "source": [
        "Next take a look at the summary table. \n",
        "> Try estimating confidence intervals to help you interpret the results."
      ]
    },
    {
      "cell_type": "code",
      "metadata": {
        "id": "_OldPROJjWQb"
      },
      "source": [
        "#take a look at the summary table\n"
      ],
      "execution_count": null,
      "outputs": []
    },
    {
      "cell_type": "markdown",
      "metadata": {
        "id": "-H17usuhjcuX"
      },
      "source": [
        "Now use the results to try and answer the following questions:\n",
        "\n",
        "> What is the slope of the best fit line?\n",
        "  \n",
        "> What does this slope suggest about the pattern between a child's IQ and the age of the mom when the child was born?\n",
        "  \n",
        "> How does the 95% CI help you interpret that slope?\n"
      ]
    }
  ]
}